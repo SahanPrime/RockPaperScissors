{
  "nbformat": 4,
  "nbformat_minor": 0,
  "metadata": {
    "colab": {
      "provenance": []
    },
    "kernelspec": {
      "name": "python3",
      "display_name": "Python 3"
    },
    "language_info": {
      "name": "python"
    }
  },
  "cells": [
    {
      "cell_type": "code",
      "execution_count": 14,
      "metadata": {
        "colab": {
          "base_uri": "https://localhost:8080/"
        },
        "id": "SWAjYLyF_gDC",
        "outputId": "65931a0e-00af-43b4-ce08-ccdc73e47afe"
      },
      "outputs": [
        {
          "name": "stdout",
          "output_type": "stream",
          "text": [
            "Choose the option 1 for Paper 2 for Rock 3 for Scissor\n",
            "None3\n"
          ]
        }
      ],
      "source": [
        "import random\n",
        "user_input=input(print(\"Choose the option 1 for Paper 2 for Rock 3 for Scissor\"))"
      ]
    },
    {
      "cell_type": "code",
      "source": [
        "possibleactions=[\"1\",\"2\",\"3\"]\n",
        "computeraction=random.choice(possibleactions)\n",
        "if computeraction==\"1\":\n",
        "  if user_input==\"2\":\n",
        "    print(\"user input is = \",user_input)\n",
        "    print(\"computer response\",computeraction)\n",
        "    print(\"You Lost\")\n",
        "  if user_input==\"3\":\n",
        "    print(\"user input is = \",user_input)\n",
        "    print(\"computer response\",computeraction)\n",
        "    print(\"You Won\")\n",
        "\n",
        "if computeraction==\"2\":\n",
        "  if user_input==\"3\":\n",
        "    print(\"user input is = \",user_input)\n",
        "    print(\"computer response\",computeraction)\n",
        "    print(\"You Lost\")\n",
        "  if user_input==\"1\":\n",
        "    print(\"user input is = \",user_input)\n",
        "    print(\"computer response\",computeraction)\n",
        "    print(\"You Won\")\n",
        "\n",
        "if computeraction==\"3\":\n",
        "  if user_input==\"1\":\n",
        "    print(\"user input is = \",user_input)\n",
        "    print(\"computer response\",computeraction)\n",
        "    print(\"You Lost\")\n",
        "  if user_input==\"2\":\n",
        "    print(\"user input is = \",user_input)\n",
        "    print(\"computer response\",computeraction)\n",
        "    print(\"You Won\")\n",
        "if user_input==computeraction:\n",
        "  print(\"tie\")\n",
        "\n",
        "print(\"1-Paper 2-Rock 3-Scissor\")"
      ],
      "metadata": {
        "colab": {
          "base_uri": "https://localhost:8080/"
        },
        "id": "m29c2ecDAZtW",
        "outputId": "cec7d2a6-a3c2-4494-c45e-48740123b3f0"
      },
      "execution_count": 15,
      "outputs": [
        {
          "output_type": "stream",
          "name": "stdout",
          "text": [
            "user input is =  3\n",
            "computer response 2\n",
            "You Lost\n",
            "1-Paper 2-Rock 3-Scissor\n"
          ]
        }
      ]
    }
  ]
}